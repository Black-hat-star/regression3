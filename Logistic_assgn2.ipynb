{
 "cells": [
  {
   "cell_type": "raw",
   "id": "6a860ff4-1e57-485a-9b5e-ef1e780d1ed2",
   "metadata": {},
   "source": [
    "1)Grid search cv is a technique used in machine learning to find the optimal hyperparameters for a model. Hyperparameters are configuration settings that are not learned from the data but need to be set before training the mode\n",
    "\n",
    "Define a Grid of Hyperparameters:\n",
    "\n",
    "Specify a set of hyperparameters and their possible values that you want to explore. This forms a grid of hyperparameter combinations.\n",
    "Create a Model:\n",
    "\n",
    "Choose the machine learning algorithm you want to use and create an instance of the model.\n",
    "Set Up Cross-Validation:\n",
    "\n",
    "Divide the training dataset into k folds (subsets). The typical choice for k is 5 or 10, resulting in k-fold cross-validation.Grid Search:For each hyperparameter combination in the grid:\n",
    "Train the model using 1\n",
    "k−1 folds as the training set.\n",
    "Validate the model on the remaining fold.\n",
    "Calculate a performance metric (e.g., accuracy, precision, recall) on the validation set.\n",
    "Evaluate Performance:\n",
    "\n",
    "For each hyperparameter combination, compute the average performance metric across all folds.\n",
    "Select Best Hyperparameters:\n",
    "\n",
    "Identify the hyperparameter combination that results in the highest average performance.\n",
    "Train Final Model:\n",
    "\n",
    "Train the model using the entire training dataset and the selected optimal hyperparameters."
   ]
  },
  {
   "cell_type": "raw",
   "id": "5179e303-fda5-4f1a-8b14-ed699e1dca1a",
   "metadata": {},
   "source": [
    "2)Grid Search CV:\n",
    "\n",
    "Exploration Strategy: Exhaustively searches through a predefined grid of hyperparameter values.\n",
    "Search Space: Evaluates all possible combinations of hyperparameters specified in the grid.\n",
    "Computational Cost: Can be computationally expensive, especially when the hyperparameter space is large or when using a high number of values for each hyperparameter.\n",
    "Use Case: Suitable when the hyperparameter space is relatively small and the computational resources are sufficient to explore all combinations.\n",
    "\n",
    "Exploration Strategy: Randomly samples a fixed number of hyperparameter combinations from the specified search space.\n",
    "Search Space: Allows for a broader exploration of the hyperparameter space, as it does not rely on an exhaustive grid.\n",
    "Computational Cost: Can be more computationally efficient, as it samples a subset of hyperparameter combinations rather than evaluating all possible combinations.\n",
    "Use Case: Particularly useful when the hyperparameter space is large, and a full grid search would be impractical due to computational constraints. It's also beneficial when certain hyperparameters are less critical and can be randomly explored."
   ]
  },
  {
   "cell_type": "raw",
   "id": "008208e8-d739-4f07-a4cf-4f760ffb7a4f",
   "metadata": {},
   "source": [
    "3)Data leakage occurs when information from outside the training dataset is used to create a machine learning model, leading to overly optimistic performance estimates that may not generalize well to new, unseen data. In other words, the model learns patterns that do not truly exist in the target population but are specific to the training data, often resulting in misleadingly high performance metrics.\n",
    "\n",
    "Overestimated Performance: Data leakage can make a model appear more accurate than it actually is, as it has learned patterns that are not present in new data.\n",
    "Poor Generalization: Models trained on leaked information may fail to generalize to new, real-world scenarios, leading to poor performance in production.\n",
    "Misleading Insights: The insights gained from the model may be based on spurious correlations rather than true underlying patterns in the data.\n",
    "\n",
    "\n",
    "\n",
    "Training Data: The training data includes information about the date and time of transactions.\n",
    "Leakage Scenario: The model is trained to detect fraud based on transaction time, and it learns that fraudulent transactions often occur at specific times of the day.\n",
    "Problem: In a real-world scenario, fraud patterns may change over time, and the model's reliance on the specific times of the day for fraud detection is likely to be inaccurate for new transactions."
   ]
  },
  {
   "cell_type": "raw",
   "id": "ce1a70bc-4f87-4cc4-aba3-9a100600988f",
   "metadata": {},
   "source": [
    "4)Separate Training and Testing Data:\n",
    "\n",
    "Ensure a clear separation between the training and testing datasets. Information from the testing set should not be used in any way during the model training process.\n",
    "Use Cross-Validation Properly:\n",
    "\n",
    "If using cross-validation, make sure to keep the training and validation sets separate at each fold. The validation set should not contain any information from the corresponding training set.\n",
    "Feature Engineering:\n",
    "\n",
    "Be cautious when creating features based on information that might not be available at the time of prediction. For example, avoid using future information or creating features that leak information about the target variable.\n"
   ]
  },
  {
   "cell_type": "raw",
   "id": "04ace714-e978-4b21-8c19-a51a19c6cade",
   "metadata": {},
   "source": [
    "5)Confusion matrix is a type of matrix which is used to \n",
    "estimate the performance of the model using the actual and the predicted values"
   ]
  },
  {
   "cell_type": "raw",
   "id": "62e8d143-5a5c-48a9-a947-4c8092c9ee30",
   "metadata": {},
   "source": [
    "6)Precesion is out of all the actual value how many are forrectly predicted by the model.\n",
    "formula is TP/(TP+FP)\n",
    "\n",
    "Recall is out of all the predicted values how many are correctly predicted within actual values\n",
    "formula is Tp/(TP+FN)"
   ]
  },
  {
   "cell_type": "raw",
   "id": "016a2b30-2d87-4583-a28d-533585c01a96",
   "metadata": {},
   "source": [
    "7)Accuracy:\n",
    "Interpretation: Overall correctness of the model. A high accuracy indicates that the model is making correct predictions.\n",
    "\n",
    "Precision:\n",
    "Interpretation: Proportion of instances predicted as positive that are actually positive. Precision is important when the cost of false positives is high.\n",
    "Recall \n",
    "Interpretation: Proportion of actual positive instances that were correctly predicted by the model. Recall is important when the cost of false negatives is high.\n",
    "\n",
    "F1 Score\n",
    "\n",
    "Interpretation: Harmonic mean of precision and recall. Balances precision and recall, providing a single metric.\n",
    "\n"
   ]
  },
  {
   "cell_type": "raw",
   "id": "cc997d5d-4875-4733-8a2c-242b2405fee4",
   "metadata": {},
   "source": [
    "8)Accuracy:\n",
    "Interpretation: Overall correctness of the model. A high accuracy indicates that the model is making correct predictions.\n",
    "\n",
    "Precision:\n",
    "Interpretation: Proportion of instances predicted as positive that are actually positive. Precision is important when the cost of false positives is high.\n",
    "Recall \n",
    "Interpretation: Proportion of actual positive instances that were correctly predicted by the model. Recall is important when the cost of false negatives is high.\n",
    "\n",
    "F1 Score\n",
    "\n",
    "Interpretation: Harmonic mean of precision and recall. Balances precision and recall, providing a single metric.\n",
    "\n"
   ]
  },
  {
   "cell_type": "raw",
   "id": "3aeb3ec5-5f34-4baa-8bbf-8b3c28546fa3",
   "metadata": {},
   "source": [
    "9)The accuracy of model explains how well the model is per\n",
    "forming where is confusion matrix accuracy is given by\n",
    "(TP+TN)/(TP+FP+TN+FN) which gives the percentage of model accuracy"
   ]
  },
  {
   "cell_type": "raw",
   "id": "6de9f258-ece1-4aea-9940-d6d1e8eb9ad6",
   "metadata": {},
   "source": [
    "10)Class Imbalance:\n",
    "Issue: If there is a significant class imbalance, the model may be biased towards the majority class, leading to poor performance on the minority class.\n",
    "Indicator in the Confusion Matrix: Skewed distribution of true positives and true negatives among classes.\n",
    "Solution: Explore techniques such as resampling, adjusting class weights, or using evaluation metrics that account for imbalanced datasets.\n",
    "2. Bias Towards Specific Classes:\n",
    "Issue: The model may perform well on certain classes while struggling with others, indicating potential biases or limitations.\n",
    "Indicator in the Confusion Matrix: Observe variations in precision, recall, or F1 score across different classes.\n",
    "Solution: Investigate the reasons for imbalances and consider strategies to address biases, such as collecting more representative data or adjusting class weights.\n",
    "3. Misclassification Patterns:\n",
    "Issue: Understanding how the model tends to misclassify instances can reveal insights into its limitations.\n",
    "Indicator in the Confusion Matrix: Observe patterns of false positives and false negatives.\n",
    "Solution: Investigate the characteristics of instances that are commonly misclassified and consider feature engineering or model adjustments.\n",
    "4. Subgroup Analysis:\n",
    "Issue: Biases may exist when the model performs differently for different subgroups within the dataset.\n",
    "Indicator in the Confusion Matrix: Evaluate performance metrics for each subgroup, considering demographics, regions, or other relevant factors.\n",
    "Solution: Assess and address biases by ensuring diverse representation in the training data and, if necessary, employing techniques like fairness-aware modeling.\n",
    "5. Threshold Sensitivity:\n",
    "Issue: The model's performance may be sensitive to the chosen classification threshold, impacting the balance between precision and recall.\n",
    "Indicator in the Confusion Matrix: Observe changes in performance metrics when adjusting the threshold.\n",
    "Solution: Experiment with different threshold values and choose a balance that aligns with the specific needs and requirements of the problem.\n",
    "6. Model Evaluation Across Demographics:\n",
    "Issue: Bias may exist in the model's predictions across different demographic groups.\n",
    "Indicator in the Confusion Matrix: Evaluate the model's performance separately for different demographic subsets.\n",
    "Solution: Employ fairness metrics and techniques to identify and address potential biases in predictions, ensuring equitable outcomes.\n",
    "7. Evaluate Sensitivity to Features:\n",
    "Issue: The model's performance may be sensitive to specific features, leading to biased predictions.\n",
    "Indicator in the Confusion Matrix: Observe changes in performance when certain features are modified or omitted.\n",
    "Solution: Conduct feature importance analysis and consider the ethical implications of relying heavily on certain features."
   ]
  }
 ],
 "metadata": {
  "kernelspec": {
   "display_name": "Python 3 (ipykernel)",
   "language": "python",
   "name": "python3"
  },
  "language_info": {
   "codemirror_mode": {
    "name": "ipython",
    "version": 3
   },
   "file_extension": ".py",
   "mimetype": "text/x-python",
   "name": "python",
   "nbconvert_exporter": "python",
   "pygments_lexer": "ipython3",
   "version": "3.10.8"
  }
 },
 "nbformat": 4,
 "nbformat_minor": 5
}
